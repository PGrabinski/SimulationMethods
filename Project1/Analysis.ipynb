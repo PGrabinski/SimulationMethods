{
 "cells": [
  {
   "cell_type": "code",
   "execution_count": 3,
   "metadata": {
    "collapsed": true
   },
   "outputs": [],
   "source": [
    "import pandas as pd\n",
    "import matplotlib.pyplot as plt"
   ]
  },
  {
   "cell_type": "code",
   "execution_count": 4,
   "metadata": {},
   "outputs": [
    {
     "name": "stdout",
     "output_type": "stream",
     "text": [
      "['1542891046.1750379.csv', '2319.dat', 'int1818.csv', '20111144.csv', '1542877881.8522146.csv', '1542729326.9054904.csv', 'int22110811.csv', 'int1636.csv', 'int1749.csv', '19111210.dat', '1542737864.6244805.csv', '1542876715.3061872.csv', '1542874571.2241015.csv', 'int22110859.csv', 'int22110805.csv', '0022.dat', '1542741819.0193837.csv', 'int1820.csv', '1542710837.5901477.csv', '1542741583.8203957.csv', '1542741802.6555977.csv', 'int1816.csv', '1542710959.2313738.csv', 'int22110807.csv', '1542738150.299793.csv', '20110846.dat', '1542877735.8009.csv', '1542870543.336592.csv', '0000', 'int1759.csv', 'int22110906.csv', '19111144.dat', 'int22111843.csv', '1542715808.8769522.csv', '1542733753.2022023.csv', 'int1751.csv', 'int22110810.csv', 'int1500.csv', '1542715931.0855222.csv', '1542715694.7917862.csv', '1542714741.5753446.csv', 'int13122.csv', '1542712221.236584.csv', 'int22110903.csv', '1542877681.1375659.csv', 'int22110901.csv', '0046.dat']\n"
     ]
    }
   ],
   "source": [
    "import os\n",
    "path = 'Results'\n",
    "print(os.listdir(path))"
   ]
  },
  {
   "cell_type": "code",
   "execution_count": 5,
   "metadata": {},
   "outputs": [
    {
     "data": {
      "text/html": [
       "<div>\n",
       "<style>\n",
       "    .dataframe thead tr:only-child th {\n",
       "        text-align: right;\n",
       "    }\n",
       "\n",
       "    .dataframe thead th {\n",
       "        text-align: left;\n",
       "    }\n",
       "\n",
       "    .dataframe tbody tr th {\n",
       "        vertical-align: top;\n",
       "    }\n",
       "</style>\n",
       "<table border=\"1\" class=\"dataframe\">\n",
       "  <thead>\n",
       "    <tr style=\"text-align: right;\">\n",
       "      <th></th>\n",
       "      <th>Energy</th>\n",
       "      <th>dE</th>\n",
       "      <th>Magnetization</th>\n",
       "      <th>Heat</th>\n",
       "      <th>dC</th>\n",
       "      <th>Temperature</th>\n",
       "    </tr>\n",
       "  </thead>\n",
       "  <tbody>\n",
       "    <tr>\n",
       "      <th>0</th>\n",
       "      <td>-2.0</td>\n",
       "      <td>1.00995</td>\n",
       "      <td>1.0</td>\n",
       "      <td>0.0</td>\n",
       "      <td>0</td>\n",
       "      <td>0.05</td>\n",
       "    </tr>\n",
       "    <tr>\n",
       "      <th>1</th>\n",
       "      <td>-2.0</td>\n",
       "      <td>1.00995</td>\n",
       "      <td>1.0</td>\n",
       "      <td>0.0</td>\n",
       "      <td>0</td>\n",
       "      <td>0.10</td>\n",
       "    </tr>\n",
       "    <tr>\n",
       "      <th>2</th>\n",
       "      <td>-2.0</td>\n",
       "      <td>1.00995</td>\n",
       "      <td>1.0</td>\n",
       "      <td>0.0</td>\n",
       "      <td>0</td>\n",
       "      <td>0.15</td>\n",
       "    </tr>\n",
       "    <tr>\n",
       "      <th>3</th>\n",
       "      <td>-2.0</td>\n",
       "      <td>1.00995</td>\n",
       "      <td>1.0</td>\n",
       "      <td>0.0</td>\n",
       "      <td>0</td>\n",
       "      <td>0.20</td>\n",
       "    </tr>\n",
       "    <tr>\n",
       "      <th>4</th>\n",
       "      <td>-2.0</td>\n",
       "      <td>1.00995</td>\n",
       "      <td>1.0</td>\n",
       "      <td>0.0</td>\n",
       "      <td>0</td>\n",
       "      <td>0.25</td>\n",
       "    </tr>\n",
       "  </tbody>\n",
       "</table>\n",
       "</div>"
      ],
      "text/plain": [
       "   Energy       dE  Magnetization  Heat  dC  Temperature\n",
       "0    -2.0  1.00995            1.0   0.0   0         0.05\n",
       "1    -2.0  1.00995            1.0   0.0   0         0.10\n",
       "2    -2.0  1.00995            1.0   0.0   0         0.15\n",
       "3    -2.0  1.00995            1.0   0.0   0         0.20\n",
       "4    -2.0  1.00995            1.0   0.0   0         0.25"
      ]
     },
     "execution_count": 5,
     "metadata": {},
     "output_type": "execute_result"
    }
   ],
   "source": [
    "results_path = os.path.join(path, 'int22111843.csv')\n",
    "results = pd.read_csv(results_path, names=['Energy', 'dE', 'Magnetization', 'Heat', 'dC', 'Temperature'])\n",
    "results.head()"
   ]
  },
  {
   "cell_type": "code",
   "execution_count": 6,
   "metadata": {},
   "outputs": [
    {
     "data": {
      "image/png": "[encoded data removed]",
      "text/plain": [
       "<matplotlib.figure.Figure at 0x7fa0cb7179b0>"
      ]
     },
     "metadata": {},
     "output_type": "display_data"
    }
   ],
   "source": [
    "results.plot.line(y='Magnetization', x='Temperature')\n",
    "plt.show()"
   ]
  },
  {
   "cell_type": "code",
   "execution_count": 7,
   "metadata": {},
   "outputs": [
    {
     "data": {
      "image/png": "[encoded data removed]",
      "text/plain": [
       "<matplotlib.figure.Figure at 0x7fa0c3f5ac88>"
      ]
     },
     "metadata": {},
     "output_type": "display_data"
    }
   ],
   "source": [
    "results.plot.line(y='Energy', x='Temperature')\n",
    "plt.show()"
   ]
  },
  {
   "cell_type": "code",
   "execution_count": 8,
   "metadata": {},
   "outputs": [
    {
     "data": {
      "image/png": "[encoded data removed]",
      "text/plain": [
       "<matplotlib.figure.Figure at 0x7fa0c3ec0a90>"
      ]
     },
     "metadata": {},
     "output_type": "display_data"
    }
   ],
   "source": [
    "results.plot.line(y='dE', x='Temperature')\n",
    "plt.show()"
   ]
  },
  {
   "cell_type": "code",
   "execution_count": 9,
   "metadata": {},
   "outputs": [
    {
     "data": {
      "image/png": "[encoded data removed]",
      "text/plain": [
       "<matplotlib.figure.Figure at 0x7fa0c3e100f0>"
      ]
     },
     "metadata": {},
     "output_type": "display_data"
    }
   ],
   "source": [
    "results.plot.line(y='Heat', x='Temperature')\n",
    "plt.show()"
   ]
  },
  {
   "cell_type": "code",
   "execution_count": 10,
   "metadata": {},
   "outputs": [
    {
     "data": {
      "image/png": "[encoded data removed]",
      "text/plain": [
       "<matplotlib.figure.Figure at 0x7fa0c3d2e9b0>"
      ]
     },
     "metadata": {},
     "output_type": "display_data"
    }
   ],
   "source": [
    "results.plot.line(y='dC', x='Temperature')\n",
    "plt.show()"
   ]
  },
  {
   "cell_type": "code",
   "execution_count": 13,
   "metadata": {
    "collapsed": true
   },
   "outputs": [],
   "source": [
    "different_rngs = pd.read_csv('Results/1542891046.1750379.csv')"
   ]
  },
  {
   "cell_type": "code",
   "execution_count": 14,
   "metadata": {},
   "outputs": [
    {
     "data": {
      "text/html": [
       "<div>\n",
       "<style>\n",
       "    .dataframe thead tr:only-child th {\n",
       "        text-align: right;\n",
       "    }\n",
       "\n",
       "    .dataframe thead th {\n",
       "        text-align: left;\n",
       "    }\n",
       "\n",
       "    .dataframe tbody tr th {\n",
       "        vertical-align: top;\n",
       "    }\n",
       "</style>\n",
       "<table border=\"1\" class=\"dataframe\">\n",
       "  <thead>\n",
       "    <tr style=\"text-align: right;\">\n",
       "      <th></th>\n",
       "      <th>RNG</th>\n",
       "      <th>SamplesPower</th>\n",
       "      <th>Energy</th>\n",
       "      <th>EnergyDev</th>\n",
       "      <th>Magnetization</th>\n",
       "      <th>Heat</th>\n",
       "      <th>HeatDev</th>\n",
       "      <th>Temperature</th>\n",
       "    </tr>\n",
       "  </thead>\n",
       "  <tbody>\n",
       "    <tr>\n",
       "      <th>0</th>\n",
       "      <td>mt</td>\n",
       "      <td>3</td>\n",
       "      <td>-1.45070</td>\n",
       "      <td>0.737843</td>\n",
       "      <td>0.710313</td>\n",
       "      <td>1.50607</td>\n",
       "      <td>0.000000</td>\n",
       "      <td>2.26918</td>\n",
       "    </tr>\n",
       "    <tr>\n",
       "      <th>1</th>\n",
       "      <td>rnlx0</td>\n",
       "      <td>3</td>\n",
       "      <td>-1.46523</td>\n",
       "      <td>0.745378</td>\n",
       "      <td>0.721063</td>\n",
       "      <td>1.57804</td>\n",
       "      <td>0.000000</td>\n",
       "      <td>2.26918</td>\n",
       "    </tr>\n",
       "    <tr>\n",
       "      <th>2</th>\n",
       "      <td>r250</td>\n",
       "      <td>3</td>\n",
       "      <td>-1.45275</td>\n",
       "      <td>0.738532</td>\n",
       "      <td>0.715008</td>\n",
       "      <td>1.40929</td>\n",
       "      <td>0.000000</td>\n",
       "      <td>2.26918</td>\n",
       "    </tr>\n",
       "    <tr>\n",
       "      <th>3</th>\n",
       "      <td>mt</td>\n",
       "      <td>4</td>\n",
       "      <td>-1.45157</td>\n",
       "      <td>0.233451</td>\n",
       "      <td>0.714325</td>\n",
       "      <td>1.49298</td>\n",
       "      <td>0.012620</td>\n",
       "      <td>2.26918</td>\n",
       "    </tr>\n",
       "    <tr>\n",
       "      <th>4</th>\n",
       "      <td>rnlx0</td>\n",
       "      <td>4</td>\n",
       "      <td>-1.45200</td>\n",
       "      <td>0.233524</td>\n",
       "      <td>0.712613</td>\n",
       "      <td>1.49560</td>\n",
       "      <td>0.018168</td>\n",
       "      <td>2.26918</td>\n",
       "    </tr>\n",
       "    <tr>\n",
       "      <th>5</th>\n",
       "      <td>r250</td>\n",
       "      <td>4</td>\n",
       "      <td>-1.45205</td>\n",
       "      <td>0.233500</td>\n",
       "      <td>0.711771</td>\n",
       "      <td>1.46915</td>\n",
       "      <td>0.012593</td>\n",
       "      <td>2.26918</td>\n",
       "    </tr>\n",
       "    <tr>\n",
       "      <th>6</th>\n",
       "      <td>mt</td>\n",
       "      <td>5</td>\n",
       "      <td>-1.45250</td>\n",
       "      <td>0.073872</td>\n",
       "      <td>0.713161</td>\n",
       "      <td>1.49845</td>\n",
       "      <td>0.005936</td>\n",
       "      <td>2.26918</td>\n",
       "    </tr>\n",
       "    <tr>\n",
       "      <th>7</th>\n",
       "      <td>rnlx0</td>\n",
       "      <td>5</td>\n",
       "      <td>-1.45117</td>\n",
       "      <td>0.073808</td>\n",
       "      <td>0.712004</td>\n",
       "      <td>1.50497</td>\n",
       "      <td>0.006092</td>\n",
       "      <td>2.26918</td>\n",
       "    </tr>\n",
       "    <tr>\n",
       "      <th>8</th>\n",
       "      <td>r250</td>\n",
       "      <td>5</td>\n",
       "      <td>-1.45383</td>\n",
       "      <td>0.073926</td>\n",
       "      <td>0.715190</td>\n",
       "      <td>1.46037</td>\n",
       "      <td>0.006096</td>\n",
       "      <td>2.26918</td>\n",
       "    </tr>\n",
       "    <tr>\n",
       "      <th>9</th>\n",
       "      <td>mt</td>\n",
       "      <td>6</td>\n",
       "      <td>-1.45294</td>\n",
       "      <td>0.023367</td>\n",
       "      <td>0.713428</td>\n",
       "      <td>1.49730</td>\n",
       "      <td>0.002043</td>\n",
       "      <td>2.26918</td>\n",
       "    </tr>\n",
       "    <tr>\n",
       "      <th>10</th>\n",
       "      <td>rnlx0</td>\n",
       "      <td>6</td>\n",
       "      <td>-1.45222</td>\n",
       "      <td>0.023357</td>\n",
       "      <td>0.712511</td>\n",
       "      <td>1.51139</td>\n",
       "      <td>0.001957</td>\n",
       "      <td>2.26918</td>\n",
       "    </tr>\n",
       "    <tr>\n",
       "      <th>11</th>\n",
       "      <td>r250</td>\n",
       "      <td>6</td>\n",
       "      <td>-1.45442</td>\n",
       "      <td>0.023387</td>\n",
       "      <td>0.715120</td>\n",
       "      <td>1.46539</td>\n",
       "      <td>0.001903</td>\n",
       "      <td>2.26918</td>\n",
       "    </tr>\n",
       "    <tr>\n",
       "      <th>12</th>\n",
       "      <td>mt</td>\n",
       "      <td>7</td>\n",
       "      <td>-1.45308</td>\n",
       "      <td>0.007390</td>\n",
       "      <td>0.713425</td>\n",
       "      <td>1.49731</td>\n",
       "      <td>0.000642</td>\n",
       "      <td>2.26918</td>\n",
       "    </tr>\n",
       "    <tr>\n",
       "      <th>13</th>\n",
       "      <td>rnlx0</td>\n",
       "      <td>7</td>\n",
       "      <td>-1.45235</td>\n",
       "      <td>0.007387</td>\n",
       "      <td>0.712611</td>\n",
       "      <td>1.50861</td>\n",
       "      <td>0.000637</td>\n",
       "      <td>2.26918</td>\n",
       "    </tr>\n",
       "    <tr>\n",
       "      <th>14</th>\n",
       "      <td>r250</td>\n",
       "      <td>7</td>\n",
       "      <td>-1.45431</td>\n",
       "      <td>0.007395</td>\n",
       "      <td>0.714950</td>\n",
       "      <td>1.46253</td>\n",
       "      <td>0.000614</td>\n",
       "      <td>2.26918</td>\n",
       "    </tr>\n",
       "  </tbody>\n",
       "</table>\n",
       "</div>"
      ],
      "text/plain": [
       "      RNG  SamplesPower   Energy  EnergyDev  Magnetization     Heat   HeatDev  \\\n",
       "0      mt             3 -1.45070   0.737843       0.710313  1.50607  0.000000   \n",
       "1   rnlx0             3 -1.46523   0.745378       0.721063  1.57804  0.000000   \n",
       "2    r250             3 -1.45275   0.738532       0.715008  1.40929  0.000000   \n",
       "3      mt             4 -1.45157   0.233451       0.714325  1.49298  0.012620   \n",
       "4   rnlx0             4 -1.45200   0.233524       0.712613  1.49560  0.018168   \n",
       "5    r250             4 -1.45205   0.233500       0.711771  1.46915  0.012593   \n",
       "6      mt             5 -1.45250   0.073872       0.713161  1.49845  0.005936   \n",
       "7   rnlx0             5 -1.45117   0.073808       0.712004  1.50497  0.006092   \n",
       "8    r250             5 -1.45383   0.073926       0.715190  1.46037  0.006096   \n",
       "9      mt             6 -1.45294   0.023367       0.713428  1.49730  0.002043   \n",
       "10  rnlx0             6 -1.45222   0.023357       0.712511  1.51139  0.001957   \n",
       "11   r250             6 -1.45442   0.023387       0.715120  1.46539  0.001903   \n",
       "12     mt             7 -1.45308   0.007390       0.713425  1.49731  0.000642   \n",
       "13  rnlx0             7 -1.45235   0.007387       0.712611  1.50861  0.000637   \n",
       "14   r250             7 -1.45431   0.007395       0.714950  1.46253  0.000614   \n",
       "\n",
       "    Temperature  \n",
       "0       2.26918  \n",
       "1       2.26918  \n",
       "2       2.26918  \n",
       "3       2.26918  \n",
       "4       2.26918  \n",
       "5       2.26918  \n",
       "6       2.26918  \n",
       "7       2.26918  \n",
       "8       2.26918  \n",
       "9       2.26918  \n",
       "10      2.26918  \n",
       "11      2.26918  \n",
       "12      2.26918  \n",
       "13      2.26918  \n",
       "14      2.26918  "
      ]
     },
     "execution_count": 14,
     "metadata": {},
     "output_type": "execute_result"
    }
   ],
   "source": [
    "different_rngs"
   ]
  },
  {
   "cell_type": "code",
   "execution_count": null,
   "metadata": {
    "collapsed": true
   },
   "outputs": [],
   "source": []
  }
 ],
 "metadata": {
  "kernelspec": {
   "display_name": "Python 3",
   "language": "python",
   "name": "python3"
  },
  "language_info": {
   "codemirror_mode": {
    "name": "ipython",
    "version": 3
   },
   "file_extension": ".py",
   "mimetype": "text/x-python",
   "name": "python",
   "nbconvert_exporter": "python",
   "pygments_lexer": "ipython3",
   "version": "3.6.2"
  }
 },
 "nbformat": 4,
 "nbformat_minor": 2
}
