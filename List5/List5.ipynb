{
 "cells": [
  {
   "cell_type": "markdown",
   "metadata": {},
   "source": [
    "# List 5: Metropolis algorithm\n",
    "\n",
    "We have two urns with balls. There are 4 black and 3 white balls.\n",
    "\n",
    "We have four different possible states:\n",
    "  1. WWW | BBBB\n",
    "  2. WWB | BBBW\n",
    "  3. WBB | BBWW\n",
    "  4. BBB | BWWW"
   ]
  },
  {
   "cell_type": "code",
   "execution_count": 1,
   "metadata": {
    "collapsed": true
   },
   "outputs": [],
   "source": [
    "import numpy as np"
   ]
  },
  {
   "cell_type": "markdown",
   "metadata": {},
   "source": [
    "The initial state vector corresponding to the WWW | BBBB state."
   ]
  },
  {
   "cell_type": "code",
   "execution_count": 2,
   "metadata": {
    "collapsed": true
   },
   "outputs": [],
   "source": [
    "P_init = np.array([1,0,0,0])"
   ]
  },
  {
   "cell_type": "markdown",
   "metadata": {},
   "source": [
    "The transition matrix."
   ]
  },
  {
   "cell_type": "code",
   "execution_count": 39,
   "metadata": {},
   "outputs": [
    {
     "name": "stdout",
     "output_type": "stream",
     "text": [
      "[[ 0.          1.          0.          0.        ]\n",
      " [ 0.08333333  0.41666667  0.5         0.        ]\n",
      " [ 0.          0.33333333  0.5         0.16666667]\n",
      " [ 0.          0.          0.75        0.25      ]]\n"
     ]
    }
   ],
   "source": [
    "W = np.array([[0, 12, 0, 0], [1, 5, 6, 0], [0, 4, 6, 2], [0, 0, 9, 3]])/12\n",
    "print(W)"
   ]
  },
  {
   "cell_type": "markdown",
   "metadata": {},
   "source": [
    "Example of the the third step in evolution $P^{(2)}=P^{(0)}W^2$."
   ]
  },
  {
   "cell_type": "code",
   "execution_count": 28,
   "metadata": {},
   "outputs": [
    {
     "data": {
      "text/plain": [
       "array([ 0.08333333,  0.41666667,  0.5       ,  0.        ])"
      ]
     },
     "execution_count": 28,
     "metadata": {},
     "output_type": "execute_result"
    }
   ],
   "source": [
    "np.dot(np.dot(P_init, W),W)"
   ]
  },
  {
   "cell_type": "markdown",
   "metadata": {},
   "source": [
    "Below there are examples of the evolution of the transition matrix W - its powers."
   ]
  },
  {
   "cell_type": "code",
   "execution_count": 29,
   "metadata": {},
   "outputs": [
    {
     "data": {
      "text/plain": [
       "array([[ 0.03530093,  0.36400463,  0.50347222,  0.09722222],\n",
       "       [ 0.03033372,  0.3547936 ,  0.50665509,  0.10821759],\n",
       "       [ 0.02797068,  0.33777006,  0.51765046,  0.1166088 ],\n",
       "       [ 0.02430556,  0.32465278,  0.52473958,  0.12630208]])"
      ]
     },
     "execution_count": 29,
     "metadata": {},
     "output_type": "execute_result"
    }
   ],
   "source": [
    "np.linalg.matrix_power(W, 4)"
   ]
  },
  {
   "cell_type": "code",
   "execution_count": 30,
   "metadata": {},
   "outputs": [
    {
     "data": {
      "text/plain": [
       "array([[ 0.02873327,  0.34361752,  0.51383681,  0.1138124 ],\n",
       "       [ 0.02863479,  0.34318617,  0.51408646,  0.11409257],\n",
       "       [ 0.02854649,  0.34272431,  0.51436663,  0.11436257],\n",
       "       [ 0.0284531 ,  0.3422777 ,  0.51463155,  0.11463765]])"
      ]
     },
     "execution_count": 30,
     "metadata": {},
     "output_type": "execute_result"
    }
   ],
   "source": [
    "np.linalg.matrix_power(W, 8)"
   ]
  },
  {
   "cell_type": "code",
   "execution_count": 31,
   "metadata": {},
   "outputs": [
    {
     "data": {
      "text/plain": [
       "array([[ 0.02857157,  0.34285785,  0.51428529,  0.11428529],\n",
       "       [ 0.02857149,  0.34285744,  0.51428554,  0.11428554],\n",
       "       [ 0.02857141,  0.34285702,  0.51428579,  0.11428579],\n",
       "       [ 0.02857132,  0.34285661,  0.51428603,  0.11428603]])"
      ]
     },
     "execution_count": 31,
     "metadata": {},
     "output_type": "execute_result"
    }
   ],
   "source": [
    "np.linalg.matrix_power(W, 16)"
   ]
  },
  {
   "cell_type": "code",
   "execution_count": 32,
   "metadata": {},
   "outputs": [
    {
     "data": {
      "text/plain": [
       "array([[ 0.02857143,  0.34285714,  0.51428571,  0.11428571],\n",
       "       [ 0.02857143,  0.34285714,  0.51428571,  0.11428571],\n",
       "       [ 0.02857143,  0.34285714,  0.51428571,  0.11428571],\n",
       "       [ 0.02857143,  0.34285714,  0.51428571,  0.11428571]])"
      ]
     },
     "execution_count": 32,
     "metadata": {},
     "output_type": "execute_result"
    }
   ],
   "source": [
    "np.linalg.matrix_power(W, 32)"
   ]
  },
  {
   "cell_type": "markdown",
   "metadata": {},
   "source": [
    "The evolution of the initial state WWW | BBBB over 30 steps.\n",
    "\n",
    "We can see that after 20 steps the system reaches the stationary distribution."
   ]
  },
  {
   "cell_type": "code",
   "execution_count": 33,
   "metadata": {},
   "outputs": [
    {
     "name": "stdout",
     "output_type": "stream",
     "text": [
      "P(0): [ 1.  0.  0.  0.]\n",
      "P(1): [ 0.  1.  0.  0.]\n",
      "P(2): [ 0.08333333  0.41666667  0.5         0.        ]\n",
      "P(3): [ 0.03472222  0.42361111  0.45833333  0.08333333]\n",
      "P(4): [ 0.03530093  0.36400463  0.50347222  0.09722222]\n",
      "P(5): [ 0.03033372  0.3547936   0.50665509  0.10821759]\n",
      "P(6): [ 0.02956613  0.34704941  0.51188754  0.11149691]\n",
      "P(7): [ 0.02892078  0.34479924  0.51309116  0.11318882]\n",
      "P(8): [ 0.02873327  0.34361752  0.51383681  0.1138124 ]\n",
      "P(9): [ 0.02863479  0.34318617  0.51408646  0.11409257]\n",
      "P(10): [ 0.02859885  0.34299119  0.51420575  0.11420422]\n",
      "P(11): [ 0.0285826   0.34291376  0.51425163  0.11425201]\n",
      "P(12): [ 0.02857615  0.34288054  0.5142717   0.11427161]\n",
      "P(13): [ 0.02857338  0.34286694  0.51427983  0.11427985]\n",
      "P(14): [ 0.02857225  0.34286121  0.51428327  0.11428327]\n",
      "P(15): [ 0.02857177  0.34285884  0.51428469  0.1142847 ]\n",
      "P(16): [ 0.02857157  0.34285785  0.51428529  0.11428529]\n",
      "P(17): [ 0.02857149  0.34285744  0.51428554  0.11428554]\n",
      "P(18): [ 0.02857145  0.34285727  0.51428564  0.11428564]\n",
      "P(19): [ 0.02857144  0.34285719  0.51428568  0.11428568]\n",
      "P(20): [ 0.02857143  0.34285716  0.5142857   0.1142857 ]\n",
      "P(21): [ 0.02857143  0.34285715  0.51428571  0.11428571]\n",
      "P(22): [ 0.02857143  0.34285715  0.51428571  0.11428571]\n",
      "P(23): [ 0.02857143  0.34285714  0.51428571  0.11428571]\n",
      "P(24): [ 0.02857143  0.34285714  0.51428571  0.11428571]\n",
      "P(25): [ 0.02857143  0.34285714  0.51428571  0.11428571]\n",
      "P(26): [ 0.02857143  0.34285714  0.51428571  0.11428571]\n",
      "P(27): [ 0.02857143  0.34285714  0.51428571  0.11428571]\n",
      "P(28): [ 0.02857143  0.34285714  0.51428571  0.11428571]\n",
      "P(29): [ 0.02857143  0.34285714  0.51428571  0.11428571]\n",
      "P(30): [ 0.02857143  0.34285714  0.51428571  0.11428571]\n",
      "P(31): [ 0.02857143  0.34285714  0.51428571  0.11428571]\n",
      "P(32): [ 0.02857143  0.34285714  0.51428571  0.11428571]\n",
      "P(33): [ 0.02857143  0.34285714  0.51428571  0.11428571]\n",
      "P(34): [ 0.02857143  0.34285714  0.51428571  0.11428571]\n",
      "P(35): [ 0.02857143  0.34285714  0.51428571  0.11428571]\n",
      "P(36): [ 0.02857143  0.34285714  0.51428571  0.11428571]\n",
      "P(37): [ 0.02857143  0.34285714  0.51428571  0.11428571]\n",
      "P(38): [ 0.02857143  0.34285714  0.51428571  0.11428571]\n",
      "P(39): [ 0.02857143  0.34285714  0.51428571  0.11428571]\n",
      "P(40): [ 0.02857143  0.34285714  0.51428571  0.11428571]\n",
      "P(41): [ 0.02857143  0.34285714  0.51428571  0.11428571]\n",
      "P(42): [ 0.02857143  0.34285714  0.51428571  0.11428571]\n",
      "P(43): [ 0.02857143  0.34285714  0.51428571  0.11428571]\n",
      "P(44): [ 0.02857143  0.34285714  0.51428571  0.11428571]\n",
      "P(45): [ 0.02857143  0.34285714  0.51428571  0.11428571]\n",
      "P(46): [ 0.02857143  0.34285714  0.51428571  0.11428571]\n",
      "P(47): [ 0.02857143  0.34285714  0.51428571  0.11428571]\n",
      "P(48): [ 0.02857143  0.34285714  0.51428571  0.11428571]\n",
      "P(49): [ 0.02857143  0.34285714  0.51428571  0.11428571]\n"
     ]
    }
   ],
   "source": [
    "for i in range(50):\n",
    "  P = np.dot(P_init, np.linalg.matrix_power(W, i))\n",
    "  print(f'P({i}): {P}')"
   ]
  },
  {
   "cell_type": "code",
   "execution_count": 38,
   "metadata": {},
   "outputs": [],
   "source": [
    "from scipy.linalg import eig\n",
    "eigs, vecs = eig(W.T)"
   ]
  },
  {
   "cell_type": "code",
   "execution_count": 25,
   "metadata": {},
   "outputs": [
    {
     "data": {
      "text/plain": [
       "array([ -4.85722573e-17,  -3.88578059e-16,   0.00000000e+00,\n",
       "        -2.77555756e-17])"
      ]
     },
     "execution_count": 25,
     "metadata": {},
     "output_type": "execute_result"
    }
   ],
   "source": [
    "vecs[:,0]/vecs[:,0].sum() - P"
   ]
  },
  {
   "cell_type": "code",
   "execution_count": 26,
   "metadata": {},
   "outputs": [
    {
     "data": {
      "text/plain": [
       "array([ 0.02857143,  0.34285714,  0.51428571,  0.11428571])"
      ]
     },
     "execution_count": 26,
     "metadata": {},
     "output_type": "execute_result"
    }
   ],
   "source": [
    "P"
   ]
  },
  {
   "cell_type": "code",
   "execution_count": 37,
   "metadata": {},
   "outputs": [
    {
     "data": {
      "text/plain": [
       "array([[  5.00000000e-01,  -7.52946966e-01,   9.31380631e-01,\n",
       "          8.84651737e-01],\n",
       "       [  5.00000000e-01,  -3.13727903e-01,  -2.32845158e-01,\n",
       "          4.52147228e-17],\n",
       "       [  5.00000000e-01,   1.25491161e-01,   1.55230105e-01,\n",
       "         -1.47441956e-01],\n",
       "       [  5.00000000e-01,   5.64710225e-01,  -2.32845158e-01,\n",
       "          4.42325868e-01]])"
      ]
     },
     "execution_count": 37,
     "metadata": {},
     "output_type": "execute_result"
    }
   ],
   "source": [
    "vecs"
   ]
  },
  {
   "cell_type": "code",
   "execution_count": null,
   "metadata": {
    "collapsed": true
   },
   "outputs": [],
   "source": []
  }
 ],
 "metadata": {
  "kernelspec": {
   "display_name": "Python 3",
   "language": "python",
   "name": "python3"
  },
  "language_info": {
   "codemirror_mode": {
    "name": "ipython",
    "version": 3
   },
   "file_extension": ".py",
   "mimetype": "text/x-python",
   "name": "python",
   "nbconvert_exporter": "python",
   "pygments_lexer": "ipython3",
   "version": "3.6.2"
  }
 },
 "nbformat": 4,
 "nbformat_minor": 2
}
