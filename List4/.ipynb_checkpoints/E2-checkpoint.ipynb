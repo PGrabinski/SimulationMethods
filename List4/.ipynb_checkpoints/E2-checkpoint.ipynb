{
 "cells": [
  {
   "cell_type": "code",
   "execution_count": 1,
   "metadata": {
    "collapsed": true
   },
   "outputs": [],
   "source": [
    "import numpy as np\n",
    "from scipy.optimize import minimize"
   ]
  },
  {
   "cell_type": "code",
   "execution_count": 2,
   "metadata": {
    "collapsed": true
   },
   "outputs": [],
   "source": [
    "def c(Lambda_table):\n",
    "  Lambda = Lambda_table[0]\n",
    "  c_value = 4*(2*Lambda**2 + 2*Lambda*np.sqrt(Lambda**2 + 16) + 16)\n",
    "  c_value /= np.sqrt(np.pi)*Lambda\n",
    "  c_value *= np.exp(Lambda**2/8 +Lambda/8*np.sqrt(Lambda**2+16)-1)\n",
    "  print(c_value)\n",
    "  return c_value"
   ]
  },
  {
   "cell_type": "code",
   "execution_count": 3,
   "metadata": {
    "collapsed": true
   },
   "outputs": [],
   "source": [
    "def positiveLambda(Lambda):\n",
    "  return Lambda[0]>0"
   ]
  },
  {
   "cell_type": "code",
   "execution_count": 4,
   "metadata": {
    "collapsed": true
   },
   "outputs": [],
   "source": [
    "Lambda_init = [5.]"
   ]
  },
  {
   "cell_type": "code",
   "execution_count": 5,
   "metadata": {
    "collapsed": true
   },
   "outputs": [],
   "source": [
    "# con1 = {'type': 'ineq'}\n",
    "bounds = ((10**-5, 10.),)"
   ]
  },
  {
   "cell_type": "code",
   "execution_count": 6,
   "metadata": {},
   "outputs": [
    {
     "name": "stdout",
     "output_type": "stream",
     "text": [
      "26882.1802461\n",
      "26882.1802461\n",
      "26882.181308\n",
      "1328357.27532\n",
      "6939.68426333\n",
      "6939.68426333\n",
      "6939.68451046\n",
      "4731.35310773\n",
      "4731.35310773\n",
      "4731.35327062\n",
      "2340.1053345\n",
      "2340.1053345\n",
      "2340.10540971\n",
      "1330.01036723\n",
      "1330.01036723\n",
      "1330.01040734\n",
      "728.647424246\n",
      "728.647424246\n",
      "728.64744456\n",
      "412.910490322\n",
      "412.910490322\n",
      "412.910500853\n",
      "237.208263239\n",
      "237.208263239\n",
      "237.208268668\n",
      "140.673453435\n",
      "140.673453435\n",
      "140.673456245\n",
      "87.1267071686\n",
      "87.1267071686\n",
      "87.1267086155\n",
      "58.0809935743\n",
      "58.0809935743\n",
      "58.0809942994\n",
      "44.0280037162\n",
      "44.0280037162\n",
      "44.0280040277\n",
      "40.279949041\n",
      "40.279949041\n",
      "40.2799490785\n",
      "40.2358550884\n",
      "40.2358550884\n",
      "40.2358550809\n",
      "40.2341386137\n",
      "40.2341386137\n",
      "40.234138614\n",
      "40.234136526\n",
      "40.234136526\n",
      "40.234136526\n"
     ]
    }
   ],
   "source": [
    "solution = minimize(c, Lambda_init, method='SLSQP', bounds=bounds)"
   ]
  },
  {
   "cell_type": "code",
   "execution_count": 7,
   "metadata": {},
   "outputs": [
    {
     "name": "stdout",
     "output_type": "stream",
     "text": [
      "41.3403601754\n"
     ]
    },
    {
     "data": {
      "text/plain": [
       "41.340360175413004"
      ]
     },
     "execution_count": 7,
     "metadata": {},
     "output_type": "execute_result"
    }
   ],
   "source": [
    "c([1])"
   ]
  },
  {
   "cell_type": "code",
   "execution_count": 8,
   "metadata": {},
   "outputs": [
    {
     "data": {
      "text/plain": [
       "     fun: 40.234136525994806\n",
       "     jac: array([ 0.00012016])\n",
       " message: 'Optimization terminated successfully.'\n",
       "    nfev: 49\n",
       "     nit: 16\n",
       "    njev: 16\n",
       "  status: 0\n",
       " success: True\n",
       "       x: array([ 0.81649824])"
      ]
     },
     "execution_count": 8,
     "metadata": {},
     "output_type": "execute_result"
    }
   ],
   "source": [
    "solution"
   ]
  },
  {
   "cell_type": "code",
   "execution_count": 1,
   "metadata": {
    "collapsed": true
   },
   "outputs": [],
   "source": [
    "import pandas as pd\n",
    "import matplotlib.pyplot as plt\n",
    "import numpy as np"
   ]
  },
  {
   "cell_type": "code",
   "execution_count": 9,
   "metadata": {
    "collapsed": true
   },
   "outputs": [],
   "source": [
    "results_standard = pd.read_csv('R2ORoom1e6.csv')"
   ]
  },
  {
   "cell_type": "code",
   "execution_count": 18,
   "metadata": {},
   "outputs": [
    {
     "name": "stdout",
     "output_type": "stream",
     "text": [
      "0.00253260778032\n"
     ]
    }
   ],
   "source": [
    "m = 2*2.6566862*10**-26\n",
    "T = 300\n",
    "k = 1.38064852e-23\n",
    "A = np.sqrt(m/2/k/T)\n",
    "print(A)"
   ]
  },
  {
   "cell_type": "code",
   "execution_count": 20,
   "metadata": {},
   "outputs": [
    {
     "data": {
      "image/png": "[encoded data removed]",
      "text/plain": [
       "<matplotlib.figure.Figure at 0x7f64a54e79e8>"
      ]
     },
     "metadata": {},
     "output_type": "display_data"
    }
   ],
   "source": [
    "x = np.arange(0.,results_standard.X.max(),0.01)\n",
    "y = pd.Series(x).apply(lambda p: A**3*4*p**2*np.exp(-(A*p)**2)/np.sqrt(np.pi))\n",
    "plt.plot(x,y)\n",
    "plt.hist(results_standard.X, bins=80, normed=True)\n",
    "# results_standard.X.plot.hist(bins=30, density=True)\n",
    "plt.show()"
   ]
  },
  {
   "cell_type": "code",
   "execution_count": 11,
   "metadata": {},
   "outputs": [
    {
     "data": {
      "text/html": [
       "<div>\n",
       "<style scoped>\n",
       "    .dataframe tbody tr th:only-of-type {\n",
       "        vertical-align: middle;\n",
       "    }\n",
       "\n",
       "    .dataframe tbody tr th {\n",
       "        vertical-align: top;\n",
       "    }\n",
       "\n",
       "    .dataframe thead th {\n",
       "        text-align: right;\n",
       "    }\n",
       "</style>\n",
       "<table border=\"1\" class=\"dataframe\">\n",
       "  <thead>\n",
       "    <tr style=\"text-align: right;\">\n",
       "      <th></th>\n",
       "      <th>X</th>\n",
       "    </tr>\n",
       "  </thead>\n",
       "  <tbody>\n",
       "    <tr>\n",
       "      <th>count</th>\n",
       "      <td>1000000.000000</td>\n",
       "    </tr>\n",
       "    <tr>\n",
       "      <th>mean</th>\n",
       "      <td>445.426212</td>\n",
       "    </tr>\n",
       "    <tr>\n",
       "      <th>std</th>\n",
       "      <td>188.059023</td>\n",
       "    </tr>\n",
       "    <tr>\n",
       "      <th>min</th>\n",
       "      <td>5.374820</td>\n",
       "    </tr>\n",
       "    <tr>\n",
       "      <th>25%</th>\n",
       "      <td>307.365750</td>\n",
       "    </tr>\n",
       "    <tr>\n",
       "      <th>50%</th>\n",
       "      <td>429.292000</td>\n",
       "    </tr>\n",
       "    <tr>\n",
       "      <th>75%</th>\n",
       "      <td>566.002250</td>\n",
       "    </tr>\n",
       "    <tr>\n",
       "      <th>max</th>\n",
       "      <td>1707.760000</td>\n",
       "    </tr>\n",
       "  </tbody>\n",
       "</table>\n",
       "</div>"
      ],
      "text/plain": [
       "                    X\n",
       "count  1000000.000000\n",
       "mean       445.426212\n",
       "std        188.059023\n",
       "min          5.374820\n",
       "25%        307.365750\n",
       "50%        429.292000\n",
       "75%        566.002250\n",
       "max       1707.760000"
      ]
     },
     "execution_count": 11,
     "metadata": {},
     "output_type": "execute_result"
    }
   ],
   "source": [
    "results_standard.describe()"
   ]
  }
 ],
 "metadata": {
  "kernelspec": {
   "display_name": "Python 3",
   "language": "python",
   "name": "python3"
  },
  "language_info": {
   "codemirror_mode": {
    "name": "ipython",
    "version": 3
   },
   "file_extension": ".py",
   "mimetype": "text/x-python",
   "name": "python",
   "nbconvert_exporter": "python",
   "pygments_lexer": "ipython3",
   "version": "3.6.2"
  }
 },
 "nbformat": 4,
 "nbformat_minor": 2
}
