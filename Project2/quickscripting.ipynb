{
 "cells": [
  {
   "cell_type": "code",
   "execution_count": 290,
   "metadata": {
    "collapsed": true
   },
   "outputs": [],
   "source": [
    "import numpy as np\n",
    "import matplotlib.pyplot as plt"
   ]
  },
  {
   "cell_type": "code",
   "execution_count": 291,
   "metadata": {
    "collapsed": true
   },
   "outputs": [],
   "source": [
    "class Charges:\n",
    "  def __init__(self, NUMBER_OF_CHARGES):\n",
    "    self.charges = np.random.rand(2, NUMBER_OF_CHARGES)\n",
    "    self.charges *= 2\n",
    "    self.charges -= 1\n",
    "    for i in range(NUMBER_OF_CHARGES):\n",
    "      while(True):\n",
    "        if self.charges[0,i] ** 2 +self.charges[1,i] ** 2 >1:\n",
    "          self.charges[0,i] = np.random.random() * 2 -1\n",
    "          self.charges[1,i] = np.random.random() * 2 -1\n",
    "        else:\n",
    "          break\n",
    "    self.NUMBER_OF_CHARGES = NUMBER_OF_CHARGES\n",
    "\n",
    "  def __str__(self):\n",
    "    return f'Number of charges: {self.NUMBER_OF_CHARGES}'"
   ]
  },
  {
   "cell_type": "code",
   "execution_count": 292,
   "metadata": {
    "collapsed": true
   },
   "outputs": [],
   "source": [
    "class Annealer:\n",
    "  def __init__(self, NUMBER_OF_CHARGES, initial_temperature, final_temperature,\n",
    "               cooling_ratio, monte_carlo_steps, change_epsilon):\n",
    "    self.NUMBER_OF_CHARGES = NUMBER_OF_CHARGES\n",
    "    self.charges = Charges(NUMBER_OF_CHARGES)\n",
    "    self.initial_temperature = initial_temperature\n",
    "    self.final_temperature = final_temperature\n",
    "    self.cooling_ratio = cooling_ratio\n",
    "    self.monte_carlo_steps = monte_carlo_steps\n",
    "    self.config_gen = Configuration_Generator(self.charges, initial_temperature, change_epsilon)\n",
    "    self.energies = []\n",
    "  \n",
    "  def freeze(self):\n",
    "    current_temperature = self.initial_temperature\n",
    "    while current_temperature > self.final_temperature:\n",
    "      self.config_gen.set_temperature(current_temperature)\n",
    "      for i in range(self.monte_carlo_steps):\n",
    "        self.config_gen.generate_new_config()\n",
    "      current_temperature *= self.cooling_ratio\n",
    "      self.energies.append(self.config_gen.compute_energy())\n",
    "#       print(current_temperature)\n",
    "#       self.plot_charges()\n",
    "\n",
    "  def plot_charges(self):\n",
    "      plt.scatter(self.charges.charges[0,:], self.charges.charges[1,:], c='r')\n",
    "      x = np.cos(np.arange(0,1.01,0.01) * 2 * np.pi)\n",
    "      y = np.sin(np.arange(0,1.01,0.01) * 2 * np.pi)\n",
    "      plt.plot(x, y)\n",
    "      plt.axis('equal')\n",
    "      plt.show()\n",
    "      \n",
    "  def __str__(self):\n",
    "    return f'Energy of the system: {self.config_gen.compute_energy()}'"
   ]
  },
  {
   "cell_type": "code",
   "execution_count": 293,
   "metadata": {},
   "outputs": [],
   "source": [
    "class Configuration_Generator:\n",
    "  def __init__(self, charges, temperature, change_epsilon):\n",
    "    self.charges = charges\n",
    "    self.temperature = temperature\n",
    "    self.change_epsilon = change_epsilon\n",
    "    \n",
    "  def set_temperature(self, temperature):\n",
    "    self.temperature = temperature\n",
    "    \n",
    "  def interaction_energy(self, id_a, id_b):\n",
    "    return np.power(np.power(self.charges.charges[:,id_a] - self.charges.charges[:,id_b], 2).sum(), -0.5)\n",
    "  \n",
    "  def compute_energy(self):\n",
    "    total_energy = 0.0\n",
    "    for charge_a_id in range(self.charges.NUMBER_OF_CHARGES):\n",
    "      for charge_b_id in range(self.charges.NUMBER_OF_CHARGES):\n",
    "        if charge_a_id == charge_b_id:\n",
    "          continue\n",
    "        total_energy += self.interaction_energy(charge_a_id, charge_b_id)\n",
    "    total_energy *= 0.5\n",
    "    return total_energy\n",
    "  \n",
    "  def generate_new_config(self):\n",
    "    for i in range(self.charges.NUMBER_OF_CHARGES):\n",
    "      charge_id = np.random.randint(self.charges.NUMBER_OF_CHARGES)\n",
    "      old = self.charges.charges[:, charge_id]\n",
    "      old_energy = self.compute_energy()\n",
    "      # Move it inside the boundaries\n",
    "      while True:\n",
    "        temp_coords = self.charges.charges[:, charge_id] + self.change_epsilon * (2 * np.random.random(size=(2)) -1)\n",
    "        if np.sqrt(np.power(temp_coords, 2).sum()) <= 1:\n",
    "          self.charges.charges[:, charge_id] = temp_coords\n",
    "          break\n",
    "      # Compute energy difference\n",
    "      new_energy = self.compute_energy()\n",
    "      energy_dif = new_energy - old_energy\n",
    "      # Accept if it is lower than 0, otherwise accept with probability exp(-E/T), else leave unchanged\n",
    "      if energy_dif < 0 or np.random.random() < np.exp(-energy_dif / self.temperature):\n",
    "        return\n",
    "      else:\n",
    "        self.charges.charges[:, charge_id] = old "
   ]
  },
  {
   "cell_type": "code",
   "execution_count": 296,
   "metadata": {},
   "outputs": [
    {
     "name": "stdout",
     "output_type": "stream",
     "text": [
      "Energy of the system: 111.65313535150153\n"
     ]
    },
    {
     "data": {
      "image/png": "[encoded data removed]",
      "text/plain": [
       "<matplotlib.figure.Figure at 0x7f982f7cd4e0>"
      ]
     },
     "metadata": {},
     "output_type": "display_data"
    }
   ],
   "source": [
    "an = Annealer(12, 0.5, 10**-4, 0.9, 200, 0.05)\n",
    "print(an)\n",
    "an.plot_charges()"
   ]
  },
  {
   "cell_type": "code",
   "execution_count": null,
   "metadata": {},
   "outputs": [],
   "source": [
    "an.freeze()"
   ]
  },
  {
   "cell_type": "code",
   "execution_count": null,
   "metadata": {},
   "outputs": [],
   "source": [
    "plt.plot(range(len(an.energies)), an.energies)\n",
    "plt.show()"
   ]
  },
  {
   "cell_type": "code",
   "execution_count": null,
   "metadata": {},
   "outputs": [],
   "source": [
    "print(an)"
   ]
  },
  {
   "cell_type": "code",
   "execution_count": null,
   "metadata": {},
   "outputs": [],
   "source": [
    "an.plot_charges()"
   ]
  },
  {
   "cell_type": "code",
   "execution_count": null,
   "metadata": {
    "collapsed": true
   },
   "outputs": [],
   "source": []
  }
 ],
 "metadata": {
  "kernelspec": {
   "display_name": "Python 3",
   "language": "python",
   "name": "python3"
  },
  "language_info": {
   "codemirror_mode": {
    "name": "ipython",
    "version": 3
   },
   "file_extension": ".py",
   "mimetype": "text/x-python",
   "name": "python",
   "nbconvert_exporter": "python",
   "pygments_lexer": "ipython3",
   "version": "3.6.2"
  }
 },
 "nbformat": 4,
 "nbformat_minor": 2
}
